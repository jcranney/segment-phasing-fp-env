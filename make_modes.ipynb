{
 "cells": [
  {
   "cell_type": "code",
   "execution_count": null,
   "metadata": {},
   "outputs": [],
   "source": [
    "import numpy as np\n",
    "pup = np.load(\"segment_phasing_fp_env/images/pup64.npy\")\n",
    "pup_width = 64\n",
    "gap_width_m = 0.359\n",
    "seg_width_m = 8.4"
   ]
  },
  {
   "cell_type": "code",
   "execution_count": null,
   "metadata": {},
   "outputs": [],
   "source": [
    "x0 = pup_width/2\n",
    "y0 = pup_width/2\n",
    "seg_diam = pup_width/(3+gap_width_m/seg_width_m*2)\n",
    "yy,xx = np.mgrid[:pup_width,:pup_width]*1.0\n",
    "zz = np.tile(xx[None,:,:]*0,[7,1,1])\n",
    "zz[0,:,:] = (((xx-x0)**2+(yy-y0)**2)**0.5 < seg_diam/2)*1.0\n",
    "for i,theta in enumerate(np.linspace(0,2*np.pi,7)[:-1]):\n",
    "    radial_offset = seg_diam*(1+gap_width_m/seg_width_m)\n",
    "    zz[1+i,:,:] = (((xx-x0-radial_offset*np.cos(theta))**2+(yy-y0-radial_offset*np.sin(theta))**2)**0.5 < seg_diam/2)*1.0\n",
    "zz *= pup[None,:,:]\n",
    "zz = zz[1:,...]\n",
    "zz[:,pup==1] -= zz[:,pup==1].mean(axis=1)[:,None]\n"
   ]
  },
  {
   "cell_type": "code",
   "execution_count": null,
   "metadata": {},
   "outputs": [],
   "source": [
    "import matplotlib.pyplot as plt\n",
    "%matplotlib widget"
   ]
  },
  {
   "cell_type": "code",
   "execution_count": null,
   "metadata": {},
   "outputs": [],
   "source": [
    "fig,ax = plt.subplots(1,6,figsize=[10,2])\n",
    "i = 0\n",
    "for a,z in zip(ax,zz):\n",
    "    a.imshow(z)\n",
    "    a.set_title(f\"mode {i:d}\")\n",
    "    i += 1\n",
    "    a.set_xticks([])\n",
    "    a.set_yticks([])\n",
    "plt.tight_layout()\n"
   ]
  },
  {
   "cell_type": "code",
   "execution_count": null,
   "metadata": {},
   "outputs": [],
   "source": [
    "np.save(\"segment_phasing_fp_env/images/modes64.npy\",zz[:,pup==1])"
   ]
  },
  {
   "cell_type": "code",
   "execution_count": null,
   "metadata": {},
   "outputs": [],
   "source": [
    "pup_width: int = 64  # width of pupil in pixels\n",
    "sampling: float = 1.8  # pixels per FWHM of diffraction limited PSF\n",
    "im_width: int = 20  # width of image"
   ]
  },
  {
   "cell_type": "code",
   "execution_count": null,
   "metadata": {},
   "outputs": [],
   "source": [
    "dft = np.fft.fft(np.eye(int(pup_width*sampling*2))).astype(np.complex64)\n",
    "dft = dft[:, :pup_width]\n",
    "dft = np.fft.fftshift(dft, axes=[0])\n",
    "dft = dft[\n",
    "    dft.shape[0]//2-im_width:dft.shape[0]//2+im_width, :\n",
    "]\n",
    "dft2 = np.kron(dft,dft)[:,pup.flatten()==1]\n",
    "dft2 /= (np.abs(dft2)**2).sum()**0.5\n",
    "phi_shift = (np.mgrid[:pup_width,:pup_width]/int(pup_width*sampling*2)).sum(axis=0)[pup==1]\n",
    "dft2 *= np.exp(-1j*2*np.pi*phi_shift/2)[None,:]"
   ]
  },
  {
   "cell_type": "code",
   "execution_count": null,
   "metadata": {},
   "outputs": [],
   "source": [
    "np.save(\"segment_phasing_fp_env/images/dft64.npy\", dft2)"
   ]
  },
  {
   "cell_type": "code",
   "execution_count": null,
   "metadata": {},
   "outputs": [],
   "source": [
    "im_out = np.abs(dft2.sum(axis=1))**2\n",
    "plt.matshow(im_out.reshape([40,40]))"
   ]
  }
 ],
 "metadata": {
  "kernelspec": {
   "display_name": "base",
   "language": "python",
   "name": "python3"
  },
  "language_info": {
   "codemirror_mode": {
    "name": "ipython",
    "version": 3
   },
   "file_extension": ".py",
   "mimetype": "text/x-python",
   "name": "python",
   "nbconvert_exporter": "python",
   "pygments_lexer": "ipython3",
   "version": "3.12.2"
  }
 },
 "nbformat": 4,
 "nbformat_minor": 2
}
